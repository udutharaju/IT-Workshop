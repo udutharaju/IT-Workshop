{
 "cells": [
  {
   "cell_type": "code",
   "execution_count": 4,
   "id": "a43356d4-b44f-4151-92e1-edd5ed91d293",
   "metadata": {},
   "outputs": [
    {
     "name": "stdout",
     "output_type": "stream",
     "text": [
      "The area of the triangle is 14.70\n"
     ]
    }
   ],
   "source": [
    "# Python Program to find the area of triangle\n",
    "\n",
    "a = 5\n",
    "b = 6\n",
    "c = 7\n",
    "s = (a + b + c) / 2\n",
    "area = (s*(s-a)*(s-b)*(s-c)) ** 0.5\n",
    "print('The area of the triangle is %0.2f' %area)"
   ]
  },
  {
   "cell_type": "markdown",
   "id": "8de64576-bed6-46e2-9cce-ca6d001ad2ce",
   "metadata": {},
   "source": [
    "# python details:"
   ]
  },
  {
   "cell_type": "code",
   "execution_count": 6,
   "id": "50bb1054-93e0-4d69-a09a-d235c36fc74e",
   "metadata": {},
   "outputs": [
    {
     "name": "stdout",
     "output_type": "stream",
     "text": [
      "Hello World\n",
      "Hello\n",
      "World\n",
      "Hello World\n"
     ]
    }
   ],
   "source": [
    "\n",
    "print(\"Hello World\")\n",
    "print(\"Hello\")\n",
    "print(\"World\")\n",
    "\n",
    "\n",
    "print(\"Hello\", end=\" \")\n",
    "print(\"World\")"
   ]
  },
  {
   "cell_type": "code",
   "execution_count": 8,
   "id": "cb2232b7-b06f-423d-9c63-5c3250430b2c",
   "metadata": {},
   "outputs": [
    {
     "name": "stdout",
     "output_type": "stream",
     "text": [
      "3.0\n"
     ]
    }
   ],
   "source": [
    "print (9/3)"
   ]
  },
  {
   "cell_type": "code",
   "execution_count": 9,
   "id": "96223091-332d-46a5-afd0-1303d8c46bfd",
   "metadata": {},
   "outputs": [
    {
     "name": "stdout",
     "output_type": "stream",
     "text": [
      "667\n"
     ]
    }
   ],
   "source": [
    "print(29*23)"
   ]
  },
  {
   "cell_type": "code",
   "execution_count": 11,
   "id": "fe4d09d0-9626-4b07-87e5-b7c5ef7c15cf",
   "metadata": {},
   "outputs": [
    {
     "name": "stdout",
     "output_type": "stream",
     "text": [
      "0\n"
     ]
    }
   ],
   "source": [
    "print(212&2)"
   ]
  },
  {
   "cell_type": "code",
   "execution_count": 12,
   "id": "35bb28c8-4ce6-4084-a53e-fc69229ef02e",
   "metadata": {},
   "outputs": [
    {
     "name": "stdout",
     "output_type": "stream",
     "text": [
      "True\n"
     ]
    }
   ],
   "source": [
    "print(120!=33)"
   ]
  },
  {
   "cell_type": "code",
   "execution_count": 13,
   "id": "9fef46ab-2dac-45dd-9ff6-ab803b252e39",
   "metadata": {},
   "outputs": [
    {
     "name": "stdout",
     "output_type": "stream",
     "text": [
      "False\n"
     ]
    }
   ],
   "source": [
    "print(23==24)"
   ]
  },
  {
   "cell_type": "markdown",
   "id": "51a0654f-c5cc-43b4-8a26-9c0c11aeee7d",
   "metadata": {},
   "source": [
    "variables naming rules"
   ]
  },
  {
   "cell_type": "code",
   "execution_count": 14,
   "id": "a24d6158-a5a9-4e60-bdeb-7c4bf9dcb121",
   "metadata": {},
   "outputs": [
    {
     "name": "stdout",
     "output_type": "stream",
     "text": [
      "559\n"
     ]
    }
   ],
   "source": [
    "a=12\n",
    "b=43\n",
    "c=a*b+b\n",
    "print(c)"
   ]
  },
  {
   "cell_type": "code",
   "execution_count": 17,
   "id": "a939bc41-9363-4d3e-9bd2-10f37739f32c",
   "metadata": {},
   "outputs": [
    {
     "name": "stdout",
     "output_type": "stream",
     "text": [
      "<class 'int'>\n"
     ]
    }
   ],
   "source": [
    "x=23\n",
    "print(type(x))"
   ]
  },
  {
   "cell_type": "code",
   "execution_count": 15,
   "id": "92da6603-bb9b-4d22-ab9e-ddc5b3456ee0",
   "metadata": {},
   "outputs": [
    {
     "data": {
      "text/plain": [
       "<function print(*args, sep=' ', end='\\n', file=None, flush=False)>"
      ]
     },
     "execution_count": 15,
     "metadata": {},
     "output_type": "execute_result"
    }
   ],
   "source": [
    "x=23\n",
    "print"
   ]
  },
  {
   "cell_type": "code",
   "execution_count": 18,
   "id": "5bc517f7-d0ec-49f8-95f6-719c583f07f3",
   "metadata": {},
   "outputs": [
    {
     "name": "stdout",
     "output_type": "stream",
     "text": [
      "<class 'int'>\n"
     ]
    }
   ],
   "source": [
    "v=22\n",
    "print(type(v))"
   ]
  },
  {
   "cell_type": "code",
   "execution_count": 41,
   "id": "67e318a3-bc3b-4185-b313-3ee35524e79c",
   "metadata": {},
   "outputs": [
    {
     "ename": "TypeError",
     "evalue": "'int' object is not subscriptable",
     "output_type": "error",
     "traceback": [
      "\u001b[0;31m---------------------------------------------------------------------------\u001b[0m",
      "\u001b[0;31mTypeError\u001b[0m                                 Traceback (most recent call last)",
      "Cell \u001b[0;32mIn[41], line 9\u001b[0m\n\u001b[1;32m      6\u001b[0m              arr[i],arr[j]\u001b[38;5;241m=\u001b[39marr[j],arr[i]\n\u001b[1;32m      8\u001b[0m arr\u001b[38;5;241m=\u001b[39m[\u001b[38;5;241m2\u001b[39m,\u001b[38;5;241m5\u001b[39m,\u001b[38;5;241m1\u001b[39m,\u001b[38;5;241m7\u001b[39m,\u001b[38;5;241m3\u001b[39m]\n\u001b[0;32m----> 9\u001b[0m bubblesort(arr)\n\u001b[1;32m     11\u001b[0m \u001b[38;5;28mprint\u001b[39m(\u001b[38;5;124m\"\u001b[39m\u001b[38;5;124msorted array is :\u001b[39m\u001b[38;5;124m\"\u001b[39m)\n\u001b[1;32m     12\u001b[0m \u001b[38;5;28;01mfor\u001b[39;00m i \u001b[38;5;129;01min\u001b[39;00m \u001b[38;5;28mrange\u001b[39m (\u001b[38;5;28mlen\u001b[39m(arr)):\n",
      "Cell \u001b[0;32mIn[41], line 5\u001b[0m, in \u001b[0;36mbubblesort\u001b[0;34m(arr)\u001b[0m\n\u001b[1;32m      3\u001b[0m \u001b[38;5;28;01mfor\u001b[39;00m i  \u001b[38;5;129;01min\u001b[39;00m \u001b[38;5;28mrange\u001b[39m (n):\n\u001b[1;32m      4\u001b[0m     \u001b[38;5;28;01mfor\u001b[39;00m j \u001b[38;5;129;01min\u001b[39;00m \u001b[38;5;28mrange\u001b[39m (i\u001b[38;5;241m+\u001b[39m\u001b[38;5;241m1\u001b[39m,n):\n\u001b[0;32m----> 5\u001b[0m         \u001b[38;5;28;01mif\u001b[39;00m arr[i]\u001b[38;5;241m>\u001b[39ma[j]:\n\u001b[1;32m      6\u001b[0m          arr[i],arr[j]\u001b[38;5;241m=\u001b[39marr[j],arr[i]\n",
      "\u001b[0;31mTypeError\u001b[0m: 'int' object is not subscriptable"
     ]
    }
   ],
   "source": [
    "\n",
    "\n",
    "def bubblesort(arr):\n",
    "    n = len(arr)\n",
    "    for i  in range (n):\n",
    "        for j in range (i+1,n):\n",
    "            if arr[i]>a[j]:\n",
    "             arr[i],arr[j]=arr[j],arr[i]\n",
    "            \n",
    "arr=[2,5,1,7,3]\n",
    "bubblesort(arr)\n",
    "\n",
    "print(\"sorted array is :\")\n",
    "for i in range (len(arr)):\n",
    "    print(\"%d\" %arr[i])"
   ]
  },
  {
   "cell_type": "code",
   "execution_count": null,
   "id": "fe8631bd-ab49-4aef-bc54-535986aede29",
   "metadata": {},
   "outputs": [],
   "source": []
  }
 ],
 "metadata": {
  "kernelspec": {
   "display_name": "Python 3 (ipykernel)",
   "language": "python",
   "name": "python3"
  },
  "language_info": {
   "codemirror_mode": {
    "name": "ipython",
    "version": 3
   },
   "file_extension": ".py",
   "mimetype": "text/x-python",
   "name": "python",
   "nbconvert_exporter": "python",
   "pygments_lexer": "ipython3",
   "version": "3.11.7"
  }
 },
 "nbformat": 4,
 "nbformat_minor": 5
}
