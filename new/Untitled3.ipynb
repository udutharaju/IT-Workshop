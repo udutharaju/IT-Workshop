{
 "cells": [
  {
   "cell_type": "code",
   "execution_count": null,
   "id": "26159055-b751-4c0e-852d-3c8101688f2e",
   "metadata": {},
   "outputs": [],
   "source": [
    "import numpy as np\n",
    "from matplotlib import pyplot as plt\n",
    "x = np.arange(0,3*3.14,0.1)\n",
    "y = np.sin(x)\n",
    "plt.subplot(2,1,1)\n",
    "plt.scatter(x,y,color = \"blue\",linestyle = \"dotted\")\n",
    "x = np.arange(0,3*3.14,0.1)\n",
    "y = np.cos(x)\n",
    "plt.subplot(2,1,1)\n",
    "plt.scatter(x,y,color = \"red\")\n",
    "\n",
    "\n"
   ]
  },
  {
   "cell_type": "code",
   "execution_count": null,
   "id": "547ab722-6040-44d6-911c-7726020e67f1",
   "metadata": {},
   "outputs": [],
   "source": []
  }
 ],
 "metadata": {
  "kernelspec": {
   "display_name": "Python 3 (ipykernel)",
   "language": "python",
   "name": "python3"
  },
  "language_info": {
   "codemirror_mode": {
    "name": "ipython",
    "version": 3
   },
   "file_extension": ".py",
   "mimetype": "text/x-python",
   "name": "python",
   "nbconvert_exporter": "python",
   "pygments_lexer": "ipython3",
   "version": "3.11.7"
  }
 },
 "nbformat": 4,
 "nbformat_minor": 5
}
